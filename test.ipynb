{
 "cells": [
  {
   "cell_type": "code",
   "execution_count": 2,
   "metadata": {},
   "outputs": [],
   "source": [
    "import os \n"
   ]
  },
  {
   "cell_type": "code",
   "execution_count": null,
   "metadata": {},
   "outputs": [],
   "source": []
  },
  {
   "cell_type": "code",
   "execution_count": 2,
   "metadata": {},
   "outputs": [
    {
     "name": "stdout",
     "output_type": "stream",
     "text": [
      "load from imagenet\n"
     ]
    },
    {
     "name": "stderr",
     "output_type": "stream",
     "text": [
      "Traceback (most recent call last):\n",
      "  File \"c:\\Users\\sagar\\Documents\\MY-PROJECTS\\DB_yolo\\DB_text_minimal-master\\src\\test.py\", line 95, in <module>\n",
      "    dbnet = load_model(args)\n",
      "  File \"c:\\Users\\sagar\\Documents\\MY-PROJECTS\\DB_yolo\\DB_text_minimal-master\\src\\test.py\", line 16, in load_model\n",
      "    dbnet.load_state_dict(torch.load(args.model_path,\n",
      "  File \"c:\\Users\\sagar\\miniconda3\\envs\\tf_clone\\lib\\site-packages\\torch\\nn\\modules\\module.py\", line 1223, in load_state_dict\n",
      "    raise RuntimeError('Error(s) in loading state_dict for {}:\\n\\t{}'.format(\n",
      "RuntimeError: Error(s) in loading state_dict for DBTextModel:\n",
      "\tMissing key(s) in state_dict: \"backbone.layer5.0.conv1.weight\", \"backbone.layer5.0.bn1.weight\", \"backbone.layer5.0.bn1.bias\", \"backbone.layer5.0.bn1.running_mean\", \"backbone.layer5.0.bn1.running_var\", \"backbone.layer5.0.conv2.weight\", \"backbone.layer5.0.bn2.weight\", \"backbone.layer5.0.bn2.bias\", \"backbone.layer5.0.bn2.running_mean\", \"backbone.layer5.0.bn2.running_var\", \"backbone.layer5.0.downsample.0.weight\", \"backbone.layer5.0.downsample.1.weight\", \"backbone.layer5.0.downsample.1.bias\", \"backbone.layer5.0.downsample.1.running_mean\", \"backbone.layer5.0.downsample.1.running_var\", \"backbone.layer5.1.conv1.weight\", \"backbone.layer5.1.bn1.weight\", \"backbone.layer5.1.bn1.bias\", \"backbone.layer5.1.bn1.running_mean\", \"backbone.layer5.1.bn1.running_var\", \"backbone.layer5.1.conv2.weight\", \"backbone.layer5.1.bn2.weight\", \"backbone.layer5.1.bn2.bias\", \"backbone.layer5.1.bn2.running_mean\", \"backbone.layer5.1.bn2.running_var\". \n"
     ]
    }
   ],
   "source": [
    "!python src/test.py --image_path assets/19_13.jpg --model_path models/db_resnet18.pth --device cuda --heatmap False --is_output_polygon False "
   ]
  },
  {
   "cell_type": "code",
   "execution_count": 1,
   "metadata": {},
   "outputs": [],
   "source": [
    "import numpy as np\n",
    "a=np.array([[1,2],[2,3],[3,4],[4,5]])"
   ]
  },
  {
   "cell_type": "code",
   "execution_count": 2,
   "metadata": {},
   "outputs": [
    {
     "data": {
      "text/plain": [
       "array([[1, 2],\n",
       "       [2, 3],\n",
       "       [3, 4],\n",
       "       [4, 5]])"
      ]
     },
     "execution_count": 2,
     "metadata": {},
     "output_type": "execute_result"
    }
   ],
   "source": [
    "a"
   ]
  },
  {
   "cell_type": "code",
   "execution_count": 3,
   "metadata": {},
   "outputs": [],
   "source": [
    "x2=np.max(a[:,0])\n",
    "y2=np.max(a[:,1])\n",
    "x1=np.min(a[:,0])\n",
    "y1=np.min(a[:,1])"
   ]
  },
  {
   "cell_type": "code",
   "execution_count": 4,
   "metadata": {},
   "outputs": [
    {
     "name": "stdout",
     "output_type": "stream",
     "text": [
      "1 2 4 5\n"
     ]
    }
   ],
   "source": [
    "print(x1,y1,x2,y2)"
   ]
  },
  {
   "cell_type": "code",
   "execution_count": 1,
   "metadata": {},
   "outputs": [],
   "source": [
    "!python src/train.py"
   ]
  },
  {
   "cell_type": "code",
   "execution_count": 23,
   "metadata": {},
   "outputs": [],
   "source": [
    "import glob\n",
    "import os\n",
    "img_dir = r'C:\\Users\\sagar\\Documents\\MY-PROJECTS\\DB_yolo\\Dataset\\Images\\Train' \n",
    "gt_dir = r'C:\\Users\\sagar\\Documents\\MY-PROJECTS\\DB_yolo\\Dataset\\gt\\Train'\n",
    "img_fps = sorted(glob.glob(os.path.join(img_dir, \"*\")))"
   ]
  },
  {
   "cell_type": "code",
   "execution_count": 13,
   "metadata": {},
   "outputs": [],
   "source": [
    "def load_metadata(img_dir, gt_dir):\n",
    "    img_fps = sorted(glob.glob(os.path.join(img_dir, \"*.jpg\")))\n",
    "    gt_fps = []\n",
    "    for i, img_fp in enumerate(img_fps):\n",
    "        img_id = img_fps[i].split(\"\\\\\")[-1].replace(\"img\", \"\").split(\".\")[0]\n",
    "        gt_fn = \"poly_gt_img{}.mat\".format(img_id)\n",
    "        gt_fp = os.path.join(gt_dir, gt_fn)\n",
    "        assert os.path.exists(img_fp)\n",
    "        gt_fps.append(gt_fp)\n",
    "    assert len(img_fps) == len(gt_fps)\n",
    "    return img_fps, gt_fps"
   ]
  },
  {
   "cell_type": "code",
   "execution_count": 14,
   "metadata": {},
   "outputs": [],
   "source": [
    "a,b=load_metadata(img_dir,gt_dir)"
   ]
  },
  {
   "cell_type": "code",
   "execution_count": 30,
   "metadata": {},
   "outputs": [],
   "source": [
    "a=['&']\n",
    "b=['&']"
   ]
  },
  {
   "cell_type": "code",
   "execution_count": 32,
   "metadata": {},
   "outputs": [
    {
     "data": {
      "text/plain": [
       "'&'"
      ]
     },
     "execution_count": 32,
     "metadata": {},
     "output_type": "execute_result"
    }
   ],
   "source": [
    "a[0]"
   ]
  },
  {
   "cell_type": "code",
   "execution_count": null,
   "metadata": {},
   "outputs": [],
   "source": []
  }
 ],
 "metadata": {
  "kernelspec": {
   "display_name": "tf_clone",
   "language": "python",
   "name": "python3"
  },
  "language_info": {
   "codemirror_mode": {
    "name": "ipython",
    "version": 3
   },
   "file_extension": ".py",
   "mimetype": "text/x-python",
   "name": "python",
   "nbconvert_exporter": "python",
   "pygments_lexer": "ipython3",
   "version": "3.9.16"
  },
  "orig_nbformat": 4
 },
 "nbformat": 4,
 "nbformat_minor": 2
}
